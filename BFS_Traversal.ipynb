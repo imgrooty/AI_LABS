{
 "cells": [
  {
   "cell_type": "markdown",
   "id": "6a4618ad",
   "metadata": {},
   "source": [
    "# Lab Report: Implementation of Breadth-First Search (BFS) Traversal"
   ]
  },
  {
   "cell_type": "markdown",
   "id": "27d1eec6",
   "metadata": {},
   "source": [
    "\n",
    "This Lab work demonstrates the implementation of **Breadth-First Search (BFS)** traversal, \n",
    "a fundamental graph traversal technique in computer science.\n",
    "\n",
    "**Breadth-First Search (BFS)** explores nodes level by level, starting from a source node. \n",
    "It uses a **queue (FIFO)** to manage the traversal order.\n"
   ]
  },
  {
   "cell_type": "code",
   "execution_count": 1,
   "id": "6977797a",
   "metadata": {},
   "outputs": [
    {
     "name": "stdout",
     "output_type": "stream",
     "text": [
      "Breadth-First Search Traversal Order: ['A', 'B', 'C', 'D', 'F', 'E', 'G']\n"
     ]
    }
   ],
   "source": [
    "\n",
    "from collections import deque\n",
    "\n",
    "def bfs_traversal(graph, start):\n",
    "    visited = set()\n",
    "    queue = deque([start])\n",
    "    traversal_order = []\n",
    "\n",
    "    while queue:\n",
    "        node = queue.popleft()\n",
    "        if node not in visited:\n",
    "            visited.add(node)\n",
    "            traversal_order.append(node)\n",
    "            queue.extend(graph[node] - visited)\n",
    "\n",
    "    return traversal_order\n",
    "\n",
    "# Example graph as an adjacency list (represented with a dictionary)\n",
    "graph = {\n",
    "    'A': {'B', 'C', 'D'},\n",
    "    'B': {'A', 'E', 'F'},\n",
    "    'C': {'A', 'G'},\n",
    "    'D': {'A'},\n",
    "    'E': {'B'},\n",
    "    'F': {'B'},\n",
    "    'G': {'C'}\n",
    "}\n",
    "\n",
    "# Perform BFS traversal starting from node 'A'\n",
    "start_node = 'A'\n",
    "print(\"Breadth-First Search Traversal Order:\", bfs_traversal(graph, start_node))\n"
   ]
  },
  {
   "cell_type": "markdown",
   "id": "59ba5821",
   "metadata": {},
   "source": [
    "\n",
    "## Explanation of Code\n",
    "\n",
    "1. **Graph Representation**: \n",
    "   - The graph is represented as an adjacency list using a dictionary.\n",
    "   - Each key is a node, and its value is a set of neighboring nodes.\n",
    "\n",
    "2. **Breadth-First Search (BFS) Traversal**:\n",
    "   - The traversal begins at a specified start node.\n",
    "   - A **queue** is used to explore nodes level by level.\n",
    "   - Nodes are marked as visited after they are dequeued to avoid reprocessing.\n",
    "\n",
    "## Observations\n",
    "- BFS is useful for finding the shortest path in an unweighted graph.\n",
    "- It explores nodes layer by layer from the start node.\n",
    "\n",
    "## Example Output\n",
    "- For the given graph starting at node 'A':\n",
    "  - BFS Traversal Order: `['A', 'B', 'C', 'D', 'E', 'F', 'G']`\n"
   ]
  }
 ],
 "metadata": {
  "kernelspec": {
   "display_name": "Python 3",
   "language": "python",
   "name": "python3"
  },
  "language_info": {
   "codemirror_mode": {
    "name": "ipython",
    "version": 3
   },
   "file_extension": ".py",
   "mimetype": "text/x-python",
   "name": "python",
   "nbconvert_exporter": "python",
   "pygments_lexer": "ipython3",
   "version": "3.13.0"
  }
 },
 "nbformat": 4,
 "nbformat_minor": 5
}
