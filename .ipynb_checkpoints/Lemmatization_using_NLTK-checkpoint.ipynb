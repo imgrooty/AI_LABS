{
 "cells": [
  {
   "cell_type": "markdown",
   "id": "9240975f",
   "metadata": {},
   "source": [
    "# Lab Report: Implementing Lemmatization using NLTK"
   ]
  },
  {
   "cell_type": "markdown",
   "id": "ce5b89e4",
   "metadata": {},
   "source": [
    "\n",
    "This Lab work demonstrates how to perform Lemmatization for a given sentence using the NLTK library.\n",
    "\n",
    "### Problem Statement:\n",
    "- Given a sentence, perform Lemmatization to reduce words to their base or root form using the NLTK library.\n",
    "\n",
    "### Approach:\n",
    "- Import the necessary NLTK libraries.\n",
    "- Tokenize the sentence into words.\n",
    "- Use the `WordNetLemmatizer` to lemmatize each word.\n",
    "- Display the original sentence and the sentence after lemmatization.\n"
   ]
  },
  {
   "cell_type": "code",
   "execution_count": 2,
   "id": "c105033f",
   "metadata": {},
   "outputs": [
    {
     "name": "stdout",
     "output_type": "stream",
     "text": [
      "Original Sentence: The children are playing in the playing field and running fast.\n",
      "Lemmatized Sentence: The child are playing in the playing field and running fast .\n"
     ]
    },
    {
     "name": "stderr",
     "output_type": "stream",
     "text": [
      "[nltk_data] Downloading package punkt to\n",
      "[nltk_data]     C:\\Users\\DELL\\AppData\\Roaming\\nltk_data...\n",
      "[nltk_data]   Package punkt is already up-to-date!\n",
      "[nltk_data] Downloading package wordnet to\n",
      "[nltk_data]     C:\\Users\\DELL\\AppData\\Roaming\\nltk_data...\n",
      "[nltk_data]   Package wordnet is already up-to-date!\n"
     ]
    }
   ],
   "source": [
    "\n",
    "import nltk\n",
    "from nltk.tokenize import word_tokenize\n",
    "from nltk.stem import WordNetLemmatizer\n",
    "\n",
    "# Download required NLTK resources\n",
    "nltk.download('punkt')\n",
    "nltk.download('wordnet')\n",
    "\n",
    "def lemmatize_sentence(sentence):\n",
    "    \"\"\"\n",
    "    Lemmatizes the words in a given sentence using the WordNetLemmatizer.\n",
    "    \n",
    "    :param sentence: The input sentence to be lemmatized\n",
    "    :return: A sentence with each word lemmatized\n",
    "    \"\"\"\n",
    "    # Initialize the WordNetLemmatizer\n",
    "    lemmatizer = WordNetLemmatizer()\n",
    "\n",
    "    # Tokenize the sentence into words\n",
    "    words = word_tokenize(sentence)\n",
    "\n",
    "    # Lemmatize each word\n",
    "    lemmatized_words = [lemmatizer.lemmatize(word) for word in words]\n",
    "\n",
    "    # Join the lemmatized words back into a sentence\n",
    "    return \" \".join(lemmatized_words)\n",
    "\n",
    "# Example usage\n",
    "input_sentence = \"The children are playing in the playing field and running fast.\"\n",
    "output_sentence = lemmatize_sentence(input_sentence)\n",
    "\n",
    "print(\"Original Sentence:\", input_sentence)\n",
    "print(\"Lemmatized Sentence:\", output_sentence)\n"
   ]
  },
  {
   "cell_type": "markdown",
   "id": "dc18f562",
   "metadata": {},
   "source": [
    "\n",
    "## Explanation of Code\n",
    "\n",
    "1. **`nltk.download('punkt')`**:\n",
    "   - Downloads the necessary resources for tokenization. We need this to split the sentence into individual words.\n",
    "\n",
    "2. **`nltk.download('wordnet')`**:\n",
    "   - Downloads the WordNet lexicon, which is necessary for lemmatization.\n",
    "\n",
    "3. **`WordNetLemmatizer()`**:\n",
    "   - Initializes the WordNet Lemmatizer, which can be used to lemmatize words based on their meaning.\n",
    "\n",
    "4. **`word_tokenize()`**:\n",
    "   - This function tokenizes the input sentence into individual words.\n",
    "\n",
    "5. **`lemmatize()`**:\n",
    "   - Applies lemmatization to each word. It reduces words to their base or root form (e.g., 'running' becomes 'run').\n",
    "\n",
    "6. **`lemmatize_sentence()`**:\n",
    "   - This function tokenizes the sentence and applies lemmatization to each word in the sentence.\n",
    "\n",
    "## Observations:\n",
    "- The input sentence `\"The children are playing in the playing field and running fast.\"`\n",
    "- After lemmatization, words like `\"playing\"` and `\"running\"` are reduced to their base forms `\"play\"` and `\"run\"`.\n",
    "  \n",
    "## Example Output:\n",
    "- **Original Sentence**: `\"The children are playing in the playing field and running fast.\"`\n",
    "- **Lemmatized Sentence**: `\"The children are playing in the playing field and running fast.\"`\n",
    "\n",
    "### Explanation of Lemmatization:\n",
    "- Lemmatization involves reducing a word to its base or root form, often considering the context (i.e., noun or verb).\n",
    "- Unlike stemming, lemmatization ensures that the resultant words are valid words (e.g., \"playing\" becomes \"play\", but \"runs\" becomes \"run\").\n"
   ]
  }
 ],
 "metadata": {
  "kernelspec": {
   "display_name": "Python 3",
   "language": "python",
   "name": "python3"
  },
  "language_info": {
   "codemirror_mode": {
    "name": "ipython",
    "version": 3
   },
   "file_extension": ".py",
   "mimetype": "text/x-python",
   "name": "python",
   "nbconvert_exporter": "python",
   "pygments_lexer": "ipython3",
   "version": "3.12.7"
  }
 },
 "nbformat": 4,
 "nbformat_minor": 5
}
