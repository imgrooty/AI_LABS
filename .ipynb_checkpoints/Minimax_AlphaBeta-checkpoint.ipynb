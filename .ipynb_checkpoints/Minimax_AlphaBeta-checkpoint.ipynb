{
 "cells": [
  {
   "cell_type": "markdown",
   "id": "06c23a97",
   "metadata": {},
   "source": [
    "# Lab Report: Implementation of Game-Playing Algorithms: Minimax and Alpha-Beta Pruning"
   ]
  },
  {
   "cell_type": "markdown",
   "id": "439d6cea",
   "metadata": {},
   "source": [
    "\n",
    "This Lab work demonstrates the implementation of **Minimax** and **Alpha-Beta Pruning**, \n",
    "two fundamental algorithms used in AI for game-playing.\n",
    "\n",
    "### Minimax Algorithm\n",
    "- Minimax is a recursive algorithm used to choose an optimal move for a player assuming that the opponent also plays optimally.\n",
    "- It explores the entire game tree to determine the best possible move.\n",
    "\n",
    "### Alpha-Beta Pruning\n",
    "- Alpha-Beta Pruning is an optimization of the Minimax algorithm that reduces the number of nodes evaluated in the search tree.\n",
    "- It uses two parameters:\n",
    "  - **Alpha**: The best value that the maximizer can guarantee.\n",
    "  - **Beta**: The best value that the minimizer can guarantee.\n"
   ]
  },
  {
   "cell_type": "code",
   "execution_count": 3,
   "id": "f8939305",
   "metadata": {},
   "outputs": [
    {
     "name": "stdout",
     "output_type": "stream",
     "text": [
      "The optimal value is: 5\n"
     ]
    }
   ],
   "source": [
    "\n",
    "import math\n",
    "\n",
    "# Minimax Algorithm\n",
    "def minimax(depth, node_index, maximizing_player, values, alpha, beta, max_depth):\n",
    "    if depth == max_depth:\n",
    "        return values[node_index]\n",
    "\n",
    "    if maximizing_player:\n",
    "        best = -math.inf\n",
    "        # Recur for left and right children\n",
    "        for i in range(2):\n",
    "            val = minimax(depth + 1, node_index * 2 + i, False, values, alpha, beta, max_depth)\n",
    "            best = max(best, val)\n",
    "            alpha = max(alpha, best)\n",
    "            if beta <= alpha:\n",
    "                break\n",
    "        return best\n",
    "    else:\n",
    "        best = math.inf\n",
    "        # Recur for left and right children\n",
    "        for i in range(2):\n",
    "            val = minimax(depth + 1, node_index * 2 + i, True, values, alpha, beta, max_depth)\n",
    "            best = min(best, val)\n",
    "            beta = min(beta, best)\n",
    "            if beta <= alpha:\n",
    "                break\n",
    "        return best\n",
    "\n",
    "# Example Usage\n",
    "values = [3, 5, 6, 9, 1, 2, 0, -1]  # Terminal nodes in a binary tree\n",
    "max_depth = math.log2(len(values))  # Calculate depth of the game tree\n",
    "\n",
    "optimal_value = minimax(0, 0, True, values, -math.inf, math.inf, int(max_depth))\n",
    "print(\"The optimal value is:\", optimal_value)\n"
   ]
  },
  {
   "cell_type": "markdown",
   "id": "e06a575a",
   "metadata": {},
   "source": [
    "\n",
    "## Explanation of Code\n",
    "\n",
    "1. **Minimax Algorithm**:\n",
    "   - This is a recursive function that simulates a two-player game.\n",
    "   - The `maximizing_player` parameter determines if the current turn is for the maximizer or the minimizer.\n",
    "   - The algorithm evaluates all possible moves to determine the optimal outcome.\n",
    "\n",
    "2. **Alpha-Beta Pruning**:\n",
    "   - Reduces the number of nodes evaluated by the Minimax algorithm by pruning branches that won't affect the final result.\n",
    "   - Parameters `alpha` and `beta` are used to track the best scores for the maximizer and minimizer, respectively.\n",
    "\n",
    "3. **Game Tree**:\n",
    "   - The game tree is represented as a binary tree with terminal node values specified in the `values` array.\n",
    "\n",
    "## Observations\n",
    "- Minimax evaluates all possible outcomes, while Alpha-Beta Pruning skips unnecessary evaluations.\n",
    "- The example demonstrates a game tree with terminal values `[3, 5, 6, 9, 1, 2, 0, -1]` and computes the optimal move for the maximizer.\n",
    "\n",
    "## Example Output\n",
    "- For the given tree, the optimal value computed is `5`.\n",
    "\n",
    "## Advantages\n",
    "- **Minimax** ensures the optimal move is selected.\n",
    "- **Alpha-Beta Pruning** improves efficiency by reducing redundant computations.\n"
   ]
  }
 ],
 "metadata": {
  "kernelspec": {
   "display_name": "Python 3",
   "language": "python",
   "name": "python3"
  },
  "language_info": {
   "codemirror_mode": {
    "name": "ipython",
    "version": 3
   },
   "file_extension": ".py",
   "mimetype": "text/x-python",
   "name": "python",
   "nbconvert_exporter": "python",
   "pygments_lexer": "ipython3",
   "version": "3.13.0"
  }
 },
 "nbformat": 4,
 "nbformat_minor": 5
}
