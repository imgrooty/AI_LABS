{
 "cells": [
  {
   "cell_type": "markdown",
   "id": "598fe80f",
   "metadata": {},
   "source": [
    "# Lab Report: Implementing Stemming using NLTK"
   ]
  },
  {
   "cell_type": "markdown",
   "id": "f6b2f538",
   "metadata": {},
   "source": [
    "\n",
    "This Lab work demonstrates how to perform stemming for a given sentence using the NLTK library.\n",
    "\n",
    "### Problem Statement:\n",
    "- Given a sentence, perform stemming to reduce words to their root form using the NLTK library.\n",
    "\n",
    "### Approach:\n",
    "- Import the necessary NLTK libraries.\n",
    "- Tokenize the sentence into words.\n",
    "- Use the `PorterStemmer` or `LancasterStemmer` to stem each word.\n",
    "- Display the original sentence and the sentence after stemming.\n"
   ]
  },
  {
   "cell_type": "code",
   "execution_count": 1,
   "id": "e65457a9",
   "metadata": {},
   "outputs": [
    {
     "name": "stdout",
     "output_type": "stream",
     "text": [
      "Original Sentence:  The children are playing in the playing field and running fast.\n",
      "Stemmed Sentence:  the children are play in the play field and run fast .\n"
     ]
    },
    {
     "name": "stderr",
     "output_type": "stream",
     "text": [
      "[nltk_data] Downloading package punkt to\n",
      "[nltk_data]     C:\\Users\\DELL\\AppData\\Roaming\\nltk_data...\n",
      "[nltk_data]   Package punkt is already up-to-date!\n"
     ]
    }
   ],
   "source": [
    "\n",
    "import nltk\n",
    "from nltk.stem import PorterStemmer\n",
    "from nltk.tokenize import word_tokenize\n",
    "\n",
    "# Download required NLTK resources\n",
    "nltk.download('punkt')\n",
    "\n",
    "def stem_sentence(sentence):\n",
    "    \"\"\"\n",
    "    Stems the words in a given sentence using the PorterStemmer.\n",
    "    \n",
    "    :param sentence: The input sentence to be stemmed\n",
    "    :return: A sentence with each word stemmed\n",
    "    \"\"\"\n",
    "    # Initialize the PorterStemmer\n",
    "    stemmer = PorterStemmer()\n",
    "\n",
    "    # Tokenize the sentence into words\n",
    "    words = word_tokenize(sentence)\n",
    "\n",
    "    # Stem each word\n",
    "    stemmed_words = [stemmer.stem(word) for word in words]\n",
    "\n",
    "    # Join the stemmed words back into a sentence\n",
    "    return \" \".join(stemmed_words)\n",
    "\n",
    "# Example usage\n",
    "input_sentence = \"The children are playing in the playing field and running fast.\"\n",
    "output_sentence = stem_sentence(input_sentence)\n",
    "\n",
    "print(\"Original Sentence: \", input_sentence)\n",
    "print(\"Stemmed Sentence: \", output_sentence)\n"
   ]
  },
  {
   "cell_type": "markdown",
   "id": "fb038377",
   "metadata": {},
   "source": [
    "\n",
    "## Explanation of Code\n",
    "\n",
    "1. **`nltk.download('punkt')`**:\n",
    "   - Downloads the necessary resources for tokenization. We need this to split the sentence into individual words.\n",
    "\n",
    "2. **`PorterStemmer()`**:\n",
    "   - Initializes the Porter Stemmer, a commonly used algorithm for stemming words.\n",
    "\n",
    "3. **`word_tokenize()`**:\n",
    "   - Tokenizes the input sentence into individual words.\n",
    "\n",
    "4. **`stem()`**:\n",
    "   - Applies stemming to each word using the `PorterStemmer`. It reduces words to their root forms (e.g., 'running' becomes 'run').\n",
    "\n",
    "5. **`stem_sentence()`**:\n",
    "   - This function tokenizes the sentence, stems each word, and then reassembles the sentence.\n",
    "\n",
    "## Observations:\n",
    "- The input sentence `\"The children are playing in the playing field and running fast.\"`\n",
    "- After stemming, words like `\"playing\"` and `\"running\"` are reduced to their root forms `\"play\"` and `\"run\"`.\n",
    "  \n",
    "## Example Output:\n",
    "- **Original Sentence**: `\"The children are playing in the playing field and running fast.\"`\n",
    "- **Stemmed Sentence**: `\"The children are play in the play field and run fast.\"`\n",
    "\n"
   ]
  }
 ],
 "metadata": {
  "kernelspec": {
   "display_name": "Python 3",
   "language": "python",
   "name": "python3"
  },
  "language_info": {
   "codemirror_mode": {
    "name": "ipython",
    "version": 3
   },
   "file_extension": ".py",
   "mimetype": "text/x-python",
   "name": "python",
   "nbconvert_exporter": "python",
   "pygments_lexer": "ipython3",
   "version": "3.12.7"
  }
 },
 "nbformat": 4,
 "nbformat_minor": 5
}
