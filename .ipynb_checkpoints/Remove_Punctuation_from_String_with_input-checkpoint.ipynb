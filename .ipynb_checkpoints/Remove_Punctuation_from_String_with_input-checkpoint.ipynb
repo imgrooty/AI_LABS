{
 "cells": [
  {
   "cell_type": "markdown",
   "id": "5bcda220",
   "metadata": {},
   "source": [
    "# Lab Report: Remove Punctuation from String"
   ]
  },
  {
   "cell_type": "markdown",
   "id": "6cd9a031",
   "metadata": {},
   "source": [
    "\n",
    "This Lab work demonstrates the solution to remove all punctuation characters from a given string.\n",
    "\n",
    "### Problem Statement:\n",
    "- Given an input string, remove all punctuation characters (e.g., `!, ?, ., ;, @`) from the string.\n",
    "\n",
    "### Approach:\n",
    "- Use Python's `string.punctuation` to identify punctuation characters.\n",
    "- Use the `str.maketrans` method to create a translation table that removes punctuation.\n",
    "- Use the `.translate()` method to apply this translation to the input string.\n"
   ]
  },
  {
   "cell_type": "code",
   "execution_count": 1,
   "id": "17728b6d",
   "metadata": {},
   "outputs": [
    {
     "name": "stdout",
     "output_type": "stream",
     "text": [
      "Original string: \n",
      "String without punctuation: \n"
     ]
    }
   ],
   "source": [
    "\n",
    "def remove_punctuation(input_string):\n",
    "    \"\"\"\n",
    "    Removes punctuation from the given string.\n",
    "    \n",
    "    :param input_string: The string from which punctuation needs to be removed\n",
    "    :return: A string without any punctuation\n",
    "    \"\"\"\n",
    "    import string\n",
    "    # Create a translation table to remove punctuation\n",
    "    translator = str.maketrans('', '', string.punctuation)\n",
    "    # Use the translation table to process the string\n",
    "    return input_string.translate(translator)\n",
    "\n",
    "# Get input from the user\n",
    "input_string = input(\"Enter a string to remove punctuation: \")\n",
    "\n",
    "# Remove punctuation and display the result\n",
    "output_string = remove_punctuation(input_string)\n",
    "print(\"Original string:\", input_string)\n",
    "print(\"String without punctuation:\", output_string)\n"
   ]
  },
  {
   "cell_type": "markdown",
   "id": "08505d4d",
   "metadata": {},
   "source": [
    "\n",
    "## Explanation of Code\n",
    "\n",
    "1. **`string.punctuation`**:\n",
    "   - This contains all standard punctuation characters (`!\"#$%&'()*+,-./:;<=>?@[\\]^_`{|}~`).\n",
    "   \n",
    "2. **`str.maketrans`**:\n",
    "   - This function creates a translation table that maps punctuation characters to `None`, effectively removing them.\n",
    "   \n",
    "3. **`.translate`**:\n",
    "   - This method applies the translation table to the input string, removing the specified characters.\n",
    "\n",
    "## Observations:\n",
    "- For example, if the user inputs `\"Hello, world! How's everything going? #Python@2024\"`, the punctuation characters `\",\", \"!\", \"?\", \"#\", \"@\", \"'\"` will be removed.\n",
    "\n",
    "## Example Output:\n",
    "- The string without punctuation: `\"Hello world Hows everything going Python2024\"`.\n",
    "\n"
   ]
  }
 ],
 "metadata": {
  "kernelspec": {
   "display_name": "Python 3",
   "language": "python",
   "name": "python3"
  },
  "language_info": {
   "codemirror_mode": {
    "name": "ipython",
    "version": 3
   },
   "file_extension": ".py",
   "mimetype": "text/x-python",
   "name": "python",
   "nbconvert_exporter": "python",
   "pygments_lexer": "ipython3",
   "version": "3.13.0"
  }
 },
 "nbformat": 4,
 "nbformat_minor": 5
}
