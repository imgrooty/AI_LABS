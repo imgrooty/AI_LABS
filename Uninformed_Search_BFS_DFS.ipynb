{
 "cells": [
  {
   "cell_type": "markdown",
   "id": "13a8136a",
   "metadata": {},
   "source": [
    "# Lab Report: Implementation of Uninformed Search Techniques"
   ]
  },
  {
   "cell_type": "markdown",
   "id": "607450a9",
   "metadata": {},
   "source": [
    "\n",
    "This notebook demonstrates the implementation of **Breadth-First Search (BFS)** and **Depth-First Search (DFS)**, \n",
    "which are fundamental uninformed search techniques in Artificial Intelligence.\n",
    "\n",
    "Both techniques are used to traverse or search through a graph or tree data structure.\n"
   ]
  },
  {
   "cell_type": "code",
   "execution_count": 1,
   "id": "e0395975",
   "metadata": {},
   "outputs": [
    {
     "name": "stdout",
     "output_type": "stream",
     "text": [
      "Breadth-First Search Order: ['A', 'B', 'C', 'D', 'F', 'E', 'G']\n",
      "Depth-First Search Order: ['A', 'D', 'C', 'G', 'B', 'E', 'F']\n"
     ]
    }
   ],
   "source": [
    "\n",
    "from collections import deque\n",
    "\n",
    "def bfs(graph, start):\n",
    "    visited = set()\n",
    "    queue = deque([start])\n",
    "    visited_order = []\n",
    "\n",
    "    while queue:\n",
    "        node = queue.popleft()\n",
    "        if node not in visited:\n",
    "            visited.add(node)\n",
    "            visited_order.append(node)\n",
    "            queue.extend(graph[node] - visited)\n",
    "\n",
    "    return visited_order\n",
    "\n",
    "def dfs(graph, start):\n",
    "    visited = set()\n",
    "    stack = [start]\n",
    "    visited_order = []\n",
    "\n",
    "    while stack:\n",
    "        node = stack.pop()\n",
    "        if node not in visited:\n",
    "            visited.add(node)\n",
    "            visited_order.append(node)\n",
    "            stack.extend(graph[node] - visited)\n",
    "\n",
    "    return visited_order\n",
    "\n",
    "# Example graph as an adjacency list (represented with a dictionary)\n",
    "graph = {\n",
    "    'A': {'B', 'C', 'D'},\n",
    "    'B': {'A', 'E', 'F'},\n",
    "    'C': {'A', 'G'},\n",
    "    'D': {'A'},\n",
    "    'E': {'B'},\n",
    "    'F': {'B'},\n",
    "    'G': {'C'}\n",
    "}\n",
    "\n",
    "# Demonstration of BFS and DFS\n",
    "start_node = 'A'\n",
    "print(\"Breadth-First Search Order:\", bfs(graph, start_node))\n",
    "print(\"Depth-First Search Order:\", dfs(graph, start_node))\n"
   ]
  },
  {
   "cell_type": "markdown",
   "id": "577f5719",
   "metadata": {},
   "source": [
    "\n",
    "## Explanation of Code\n",
    "\n",
    "1. **Graph Representation**: \n",
    "   - The graph is represented as an adjacency list using a dictionary. \n",
    "   - Each key is a node, and its value is a set of neighboring nodes.\n",
    "\n",
    "2. **Breadth-First Search (BFS)**:\n",
    "   - Uses a queue (FIFO) to explore nodes level by level.\n",
    "   - Explores all neighbors of a node before moving to the next level.\n",
    "\n",
    "3. **Depth-First Search (DFS)**:\n",
    "   - Uses a stack (LIFO) to explore nodes.\n",
    "   - Dives deep into a branch before backtracking.\n",
    "\n",
    "## Observations\n",
    "- BFS is better suited for finding the shortest path in an unweighted graph.\n",
    "- DFS can be more memory efficient in deep and sparse graphs but may not guarantee the shortest path.\n",
    "\n",
    "## Example Output\n",
    "- For the given graph starting at node 'A':\n",
    "  - BFS order: `['A', 'B', 'C', 'D', 'E', 'F', 'G']`\n",
    "  - DFS order: `['A', 'D', 'C', 'G', 'B', 'F', 'E']`\n"
   ]
  }
 ],
 "metadata": {
  "kernelspec": {
   "display_name": "Python 3",
   "language": "python",
   "name": "python3"
  },
  "language_info": {
   "codemirror_mode": {
    "name": "ipython",
    "version": 3
   },
   "file_extension": ".py",
   "mimetype": "text/x-python",
   "name": "python",
   "nbconvert_exporter": "python",
   "pygments_lexer": "ipython3",
   "version": "3.13.0"
  }
 },
 "nbformat": 4,
 "nbformat_minor": 5
}
