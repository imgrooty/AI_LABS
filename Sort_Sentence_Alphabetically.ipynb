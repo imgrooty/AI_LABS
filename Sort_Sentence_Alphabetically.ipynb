{
 "cells": [
  {
   "cell_type": "markdown",
   "id": "5ad32377",
   "metadata": {},
   "source": [
    "# Lab Report: Sort a Sentence in Alphabetical Order"
   ]
  },
  {
   "cell_type": "markdown",
   "id": "f47b8774",
   "metadata": {},
   "source": [
    "\n",
    "This notebook demonstrates the solution to sort the words in a given sentence in alphabetical order.\n",
    "\n",
    "### Problem Statement:\n",
    "- Given an input sentence, sort the words in alphabetical order.\n",
    "\n",
    "### Approach:\n",
    "- Split the sentence into individual words.\n",
    "- Sort the words alphabetically.\n",
    "- Join the sorted words back into a sentence.\n"
   ]
  },
  {
   "cell_type": "code",
   "execution_count": 1,
   "id": "9491f8c2",
   "metadata": {},
   "outputs": [
    {
     "name": "stdout",
     "output_type": "stream",
     "text": [
      "Original sentence: The quick brown fox jumps over the lazy dog\n",
      "Sorted sentence: The brown dog fox jumps lazy over quick the\n"
     ]
    }
   ],
   "source": [
    "\n",
    "def sort_sentence(sentence):\n",
    "    \"\"\"\n",
    "    Sort the words in the sentence in alphabetical order.\n",
    "    \n",
    "    :param sentence: The input sentence to be sorted\n",
    "    :return: A string with the words sorted alphabetically\n",
    "    \"\"\"\n",
    "    # Split the sentence into words\n",
    "    words = sentence.split()\n",
    "    \n",
    "    # Sort the words alphabetically\n",
    "    sorted_words = sorted(words)\n",
    "    \n",
    "    # Join the sorted words back into a sentence\n",
    "    sorted_sentence = ' '.join(sorted_words)\n",
    "    \n",
    "    return sorted_sentence\n",
    "\n",
    "# Example usage\n",
    "input_sentence = \"The quick brown fox jumps over the lazy dog\"\n",
    "sorted_sentence = sort_sentence(input_sentence)\n",
    "print(\"Original sentence:\", input_sentence)\n",
    "print(\"Sorted sentence:\", sorted_sentence)\n"
   ]
  },
  {
   "cell_type": "markdown",
   "id": "ba634bdb",
   "metadata": {},
   "source": [
    "\n",
    "## Explanation of Code\n",
    "\n",
    "1. **`sentence.split()`**:\n",
    "   - This method splits the input sentence into words based on spaces.\n",
    "   \n",
    "2. **`sorted()`**:\n",
    "   - This function sorts the list of words alphabetically.\n",
    "   \n",
    "3. **`' '.join()`**:\n",
    "   - This method joins the sorted list of words back into a sentence by adding spaces between the words.\n",
    "\n",
    "## Observations:\n",
    "- For the example where the input sentence is `\"The quick brown fox jumps over the lazy dog\"`:\n",
    "  - The words were sorted alphabetically to form: `\"The brown dog fox jumps lazy over quick the\"`.\n",
    "  \n",
    "## Example Output:\n",
    "- The sentence without sorting: `\"The quick brown fox jumps over the lazy dog\"`.\n",
    "- The sentence after sorting: `\"The brown dog fox jumps lazy over quick the\"`.\n"
   ]
  }
 ],
 "metadata": {
  "kernelspec": {
   "display_name": "Python 3",
   "language": "python",
   "name": "python3"
  },
  "language_info": {
   "codemirror_mode": {
    "name": "ipython",
    "version": 3
   },
   "file_extension": ".py",
   "mimetype": "text/x-python",
   "name": "python",
   "nbconvert_exporter": "python",
   "pygments_lexer": "ipython3",
   "version": "3.13.0"
  }
 },
 "nbformat": 4,
 "nbformat_minor": 5
}
