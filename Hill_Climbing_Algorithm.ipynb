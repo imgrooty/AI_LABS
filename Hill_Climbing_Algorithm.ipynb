{
 "cells": [
  {
   "cell_type": "markdown",
   "id": "5d9c82dd",
   "metadata": {},
   "source": [
    "# Lab Report: Implementation of Local Search Technique: Hill Climbing Algorithm"
   ]
  },
  {
   "cell_type": "markdown",
   "id": "2b07a582",
   "metadata": {},
   "source": [
    "\n",
    "This notebook demonstrates the implementation of the **Hill Climbing Algorithm**, \n",
    "a local search technique used for optimization problems.\n",
    "\n",
    "**Hill Climbing** is an iterative algorithm that starts with an arbitrary solution and makes small changes \n",
    "to improve the solution. The process continues until no better neighboring solution is found.\n",
    "\n",
    "### Key Features of Hill Climbing:\n",
    "1. **Heuristic-based Search**: The algorithm uses a heuristic function to evaluate the quality of solutions.\n",
    "2. **Local Optimization**: Searches for a better solution in the immediate neighborhood of the current solution.\n",
    "3. **Termination**: Stops when a peak (local or global) is reached.\n"
   ]
  },
  {
   "cell_type": "code",
   "execution_count": 1,
   "id": "b1d9e2d0",
   "metadata": {},
   "outputs": [
    {
     "name": "stdout",
     "output_type": "stream",
     "text": [
      "Optimal Solution: 2\n",
      "Objective Value at Optimal Solution: 12\n"
     ]
    }
   ],
   "source": [
    "\n",
    "import random\n",
    "\n",
    "def hill_climbing(objective_function, initial_solution, neighbors_function):\n",
    "    current_solution = initial_solution\n",
    "    current_value = objective_function(current_solution)\n",
    "    \n",
    "    while True:\n",
    "        # Generate all neighbors of the current solution\n",
    "        neighbors = neighbors_function(current_solution)\n",
    "        # Evaluate neighbors\n",
    "        neighbor_values = {neighbor: objective_function(neighbor) for neighbor in neighbors}\n",
    "        \n",
    "        # Find the best neighbor\n",
    "        best_neighbor = max(neighbor_values, key=neighbor_values.get)\n",
    "        best_value = neighbor_values[best_neighbor]\n",
    "        \n",
    "        # If the best neighbor is not better than the current, return the solution\n",
    "        if best_value <= current_value:\n",
    "            return current_solution, current_value\n",
    "        \n",
    "        # Move to the best neighbor\n",
    "        current_solution = best_neighbor\n",
    "        current_value = best_value\n",
    "\n",
    "# Example problem: Maximize f(x) = -(x^2) + 5x + 6\n",
    "def objective_function(x):\n",
    "    return -(x**2) + 5*x + 6\n",
    "\n",
    "# Define neighbors for a 1D search space\n",
    "def neighbors_function(x):\n",
    "    return [x - 1, x + 1]\n",
    "\n",
    "# Initial solution\n",
    "initial_solution = random.randint(-10, 10)\n",
    "\n",
    "# Perform Hill Climbing\n",
    "solution, value = hill_climbing(objective_function, initial_solution, neighbors_function)\n",
    "\n",
    "print(\"Optimal Solution:\", solution)\n",
    "print(\"Objective Value at Optimal Solution:\", value)\n"
   ]
  },
  {
   "cell_type": "markdown",
   "id": "8ef8f934",
   "metadata": {},
   "source": [
    "\n",
    "## Explanation of Code\n",
    "\n",
    "1. **Objective Function**:\n",
    "   - This function represents the problem to be optimized. \n",
    "   - In this example, the function is \\( f(x) = -(x^2) + 5x + 6 \\).\n",
    "\n",
    "2. **Neighbors Function**:\n",
    "   - Generates possible solutions by modifying the current solution slightly.\n",
    "   - For a 1D search space, neighbors are defined as \\( x-1 \\) and \\( x+1 \\).\n",
    "\n",
    "3. **Hill Climbing Algorithm**:\n",
    "   - Starts with a randomly selected initial solution.\n",
    "   - Evaluates all neighboring solutions and moves to the one with the highest value.\n",
    "   - Terminates when no better neighbor is found.\n",
    "\n",
    "## Observations\n",
    "- Hill Climbing is prone to getting stuck in local maxima.\n",
    "- It works well when the problem has a single peak (global maximum).\n",
    "\n",
    "## Example Output\n",
    "- For the given objective function, the algorithm may output:\n",
    "  - Optimal Solution: `2` (if global maximum is reached).\n",
    "  - Objective Value: `11`.\n"
   ]
  }
 ],
 "metadata": {
  "kernelspec": {
   "display_name": "Python 3",
   "language": "python",
   "name": "python3"
  },
  "language_info": {
   "codemirror_mode": {
    "name": "ipython",
    "version": 3
   },
   "file_extension": ".py",
   "mimetype": "text/x-python",
   "name": "python",
   "nbconvert_exporter": "python",
   "pygments_lexer": "ipython3",
   "version": "3.13.0"
  }
 },
 "nbformat": 4,
 "nbformat_minor": 5
}
