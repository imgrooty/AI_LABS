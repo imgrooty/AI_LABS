{
 "cells": [
  {
   "cell_type": "markdown",
   "metadata": {},
   "source": [
    "# Lab Report: Implementing Lemmatization using NLTK"
   ]
  },
  {
   "cell_type": "markdown",
   "metadata": {},
   "source": [
    "This notebook demonstrates how to perform Lemmatization for a given sentence using the NLTK library.\n",
    "\n",
    "### Problem Statement:\n",
    "- Given a sentence, perform Lemmatization to reduce words to their base or root form using the NLTK library.\n",
    "\n",
    "### Approach:\n",
    "- Import the necessary NLTK libraries.\n",
    "- Tokenize the sentence into words.\n",
    "- Use the `WordNetLemmatizer` with POS tagging to lemmatize each word.\n",
    "- Display the original sentence and the sentence after lemmatization.\n",
    "- Allow user input for flexibility."
   ]
  },
  {
   "cell_type": "code",
   "metadata": {},
   "source": [
    "import nltk\n",
    "from nltk.tokenize import word_tokenize\n",
    "from nltk.stem import WordNetLemmatizer\n",
    "from nltk.corpus import wordnet\n",
    "\n",
    "# Download required NLTK resources\n",
    "nltk.download('punkt', quiet=True)\n",
    "nltk.download('wordnet', quiet=True)\n",
    "nltk.download('averaged_perceptron_tagger', quiet=True)\n",
    "nltk.download('omw-1.4', quiet=True)\n",
    "\n",
    "def get_wordnet_pos(tag):\n",
    "    \"\"\"\n",
    "    Converts POS tags from NLTK's format to WordNet's format for lemmatization.\n",
    "    \n",
    "    :param tag: Part-of-speech tag from NLTK\n",
    "    :return: Corresponding WordNet POS tag, or None if not applicable\n",
    "    \"\"\"\n",
    "    if tag.startswith('J'):\n",
    "        return wordnet.ADJ  # Adjective\n",
    "    elif tag.startswith('V'):\n",
    "        return wordnet.VERB  # Verb\n",
    "    elif tag.startswith('N'):\n",
    "        return wordnet.NOUN  # Noun\n",
    "    elif tag.startswith('R'):\n",
    "        return wordnet.ADV  # Adverb\n",
    "    else:\n",
    "        return None  # Other POS (e.g., punctuation)\n",
    "\n",
    "def lemmatize_sentence(sentence):\n",
    "    \"\"\"\n",
    "    Lemmatizes the words in a given sentence using the WordNetLemmatizer and POS tagging.\n",
    "    \n",
    "    :param sentence: The input sentence to be lemmatized\n",
    "    :return: A sentence with each word lemmatized\n",
    "    \"\"\"\n",
    "    # Initialize the WordNetLemmatizer\n",
    "    lemmatizer = WordNetLemmatizer()\n",
    "\n",
    "    # Tokenize the sentence into words\n",
    "    words = word_tokenize(sentence)\n",
    "\n",
    "    # Perform POS tagging on the tokenized words\n",
    "    pos_tags = nltk.pos_tag(words)\n",
    "\n",
    "    # Lemmatize each word with its POS tag\n",
    "    lemmatized_words = [\n",
    "        lemmatizer.lemmatize(word, get_wordnet_pos(tag)) if get_wordnet_pos(tag) else word\n",
    "        for word, tag in pos_tags\n",
    "    ]\n",
    "\n",
    "    # Join the lemmatized words back into a sentence\n",
    "    return \" \".join(lemmatized_words)\n"
   ]
  },
  {
   "cell_type": "markdown",
   "metadata": {},
   "source": [
    "## Enter a Sentence for Lemmatization"
   ]
  },
  {
   "cell_type": "code",
   "metadata": {},
   "source": [
    "# User input\n",
    "input_sentence = input(\"Enter a sentence to be lemmatized: \")\n",
    "\n",
    "# Process the input sentence\n",
    "output_sentence = lemmatize_sentence(input_sentence)\n",
    "\n",
    "# Display the result\n",
    "print(\"\\nOriginal Sentence:\", input_sentence)\n",
    "print(\"Lemmatized Sentence:\", output_sentence)"
   ]
  },
  {
   "cell_type": "markdown",
   "metadata": {},
   "source": [
    "## Observations and Explanation\n",
    "- The user is prompted to input a sentence, which is then processed through tokenization, POS tagging, and lemmatization.\n",
    "- After processing, the program outputs the original and the lemmatized versions of the sentence.\n",
    "\n",
    "### Example Output:\n",
    "- **Input**: `\"The children are playing in the playing field and running fast.\"`\n",
    "- **Lemmatized Output**: `\"The children are play in the play field and run fast.\"`\n",
    "\n",
    "### Key Points:\n",
    "- Lemmatization considers the context of words (e.g., `playing` becomes `play`, `running` becomes `run`).\n",
    "- Proper POS tagging improves lemmatization accuracy compared to using default noun assumptions."
   ]
  }
 ],
 "metadata": {
  "kernelspec": {
   "display_name": "Python 3",
   "language": "python",
   "name": "python3"
  },
  "language_info": {
   "codemirror_mode": {
    "name": "ipython",
    "version": 3
   },
   "file_extension": ".py",
   "mimetype": "text/x-python",
   "name": "python",
   "nbconvert_exporter": "python",
   "pygments_lexer": "ipython3",
   "version": "3.9.7"
  }
 },
 "nbformat": 4,
 "nbformat_minor": 5
}
