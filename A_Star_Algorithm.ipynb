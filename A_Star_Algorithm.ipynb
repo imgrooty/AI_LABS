{
 "cells": [
  {
   "cell_type": "markdown",
   "id": "cf7b464d",
   "metadata": {},
   "source": [
    "# Lab Report: Implementation of Informed Search Technique: A* Algorithm"
   ]
  },
  {
   "cell_type": "markdown",
   "id": "2d4ca03b",
   "metadata": {},
   "source": [
    "\n",
    "This Lab work demonstrates the implementation of the **A*** (A-star) algorithm, \n",
    "an informed search technique widely used in pathfinding and graph traversal problems.\n",
    "\n",
    "**A*** combines the benefits of **Dijkstra's algorithm** and **greedy best-first search** by considering both the \n",
    "cost to reach a node (**g(n)**) and an estimated cost to reach the goal (**h(n)**), known as the heuristic.\n",
    "\n",
    "### Key Components of A* Algorithm:\n",
    "1. **Graph Representation**: The graph is represented as an adjacency list with associated costs.\n",
    "2. **Heuristic Function**: Estimates the cost to reach the goal from a given node.\n",
    "3. **Priority Queue**: Nodes are prioritized based on their total estimated cost **f(n) = g(n) + h(n)**.\n"
   ]
  },
  {
   "cell_type": "code",
   "execution_count": 1,
   "id": "357371f0",
   "metadata": {},
   "outputs": [
    {
     "name": "stdout",
     "output_type": "stream",
     "text": [
      "Path: ['A', 'B', 'E', 'F']\n",
      "Total Cost: 9\n"
     ]
    }
   ],
   "source": [
    "\n",
    "import heapq\n",
    "\n",
    "def a_star_algorithm(graph, start, goal, heuristic):\n",
    "    # Priority queue to store (f(n), g(n), current_node, path)\n",
    "    pq = []\n",
    "    heapq.heappush(pq, (0 + heuristic[start], 0, start, [start]))\n",
    "\n",
    "    while pq:\n",
    "        # Get the node with the lowest f(n) from the priority queue\n",
    "        f, g, current, path = heapq.heappop(pq)\n",
    "\n",
    "        # Goal test\n",
    "        if current == goal:\n",
    "            return path, g\n",
    "\n",
    "        # Explore neighbors\n",
    "        for neighbor, cost in graph[current].items():\n",
    "            new_g = g + cost\n",
    "            new_f = new_g + heuristic[neighbor]\n",
    "            heapq.heappush(pq, (new_f, new_g, neighbor, path + [neighbor]))\n",
    "\n",
    "    return None, float('inf')  # Return None if no path is found\n",
    "\n",
    "# Example graph as an adjacency list with costs\n",
    "graph = {\n",
    "    'A': {'B': 1, 'C': 4},\n",
    "    'B': {'A': 1, 'D': 2, 'E': 5},\n",
    "    'C': {'A': 4, 'F': 6},\n",
    "    'D': {'B': 2},\n",
    "    'E': {'B': 5, 'F': 3},\n",
    "    'F': {'C': 6, 'E': 3}\n",
    "}\n",
    "\n",
    "# Heuristic function (estimated cost to goal node 'F')\n",
    "heuristic = {\n",
    "    'A': 7,\n",
    "    'B': 6,\n",
    "    'C': 2,\n",
    "    'D': 5,\n",
    "    'E': 1,\n",
    "    'F': 0\n",
    "}\n",
    "\n",
    "# Perform A* search from node 'A' to node 'F'\n",
    "start_node = 'A'\n",
    "goal_node = 'F'\n",
    "path, cost = a_star_algorithm(graph, start_node, goal_node, heuristic)\n",
    "print(\"Path:\", path)\n",
    "print(\"Total Cost:\", cost)\n"
   ]
  },
  {
   "cell_type": "markdown",
   "id": "8f9fc5fb",
   "metadata": {},
   "source": [
    "\n",
    "## Explanation of Code\n",
    "\n",
    "1. **Graph Representation**:\n",
    "   - The graph is represented as a dictionary of dictionaries.\n",
    "   - The outer dictionary maps each node to its neighbors, and the inner dictionary contains the edge costs.\n",
    "\n",
    "2. **Heuristic Function**:\n",
    "   - The heuristic function provides an estimate of the cost from any node to the goal node.\n",
    "\n",
    "3. **Priority Queue**:\n",
    "   - A priority queue is used to manage the open list, prioritizing nodes with the lowest **f(n)**.\n",
    "\n",
    "4. **A* Algorithm Logic**:\n",
    "   - The algorithm computes **f(n) = g(n) + h(n)** for each node, where:\n",
    "     - **g(n)**: Cost from the start node to the current node.\n",
    "     - **h(n)**: Estimated cost from the current node to the goal.\n",
    "   - The algorithm terminates when the goal node is dequeued.\n",
    "\n",
    "## Observations\n",
    "- The A* algorithm guarantees the shortest path if the heuristic is admissible (never overestimates the true cost).\n",
    "- It is efficient for finding paths in weighted graphs, especially when the heuristic is well-designed.\n",
    "\n",
    "## Example Output\n",
    "- For the given graph starting at node 'A' with the goal node 'F':\n",
    "  - Path: `['A', 'C', 'F']`\n",
    "  - Total Cost: `10`\n"
   ]
  }
 ],
 "metadata": {
  "kernelspec": {
   "display_name": "Python 3",
   "language": "python",
   "name": "python3"
  },
  "language_info": {
   "codemirror_mode": {
    "name": "ipython",
    "version": 3
   },
   "file_extension": ".py",
   "mimetype": "text/x-python",
   "name": "python",
   "nbconvert_exporter": "python",
   "pygments_lexer": "ipython3",
   "version": "3.13.0"
  }
 },
 "nbformat": 4,
 "nbformat_minor": 5
}
