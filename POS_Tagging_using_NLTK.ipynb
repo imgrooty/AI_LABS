{
 "cells": [
  {
   "cell_type": "markdown",
   "id": "efc1a14d",
   "metadata": {},
   "source": [
    "# Lab Report: Implementing POS Tagging using NLTK"
   ]
  },
  {
   "cell_type": "markdown",
   "id": "b60d31f9",
   "metadata": {},
   "source": [
    "\n",
    "This Lab work demonstrates how to perform Parts of Speech (POS) tagging for a given sentence using the NLTK library.\n",
    "\n",
    "### Problem Statement:\n",
    "- Given a sentence, identify and tag the parts of speech (e.g., noun, verb, adjective) for each word in the sentence.\n",
    "\n",
    "### Approach:\n",
    "- Import the necessary NLTK libraries.\n",
    "- Tokenize the sentence into words.\n",
    "- Use the `nltk.pos_tag()` method to tag each word with its corresponding POS tag.\n",
    "- Display the original sentence and the POS tagged output.\n"
   ]
  },
  {
   "cell_type": "code",
   "execution_count": null,
   "id": "9f140d30",
   "metadata": {},
   "outputs": [],
   "source": [
    "\n",
    "import nltk\n",
    "from nltk.tokenize import word_tokenize\n",
    "\n",
    "# Download the necessary NLTK resources\n",
    "nltk.download('punkt')\n",
    "nltk.download('averaged_perceptron_tagger')\n",
    "\n",
    "def pos_tagging(sentence):\n",
    "    \"\"\"\n",
    "    Tags the words in a sentence with their respective parts of speech.\n",
    "    \n",
    "    :param sentence: The input sentence to be tagged\n",
    "    :return: A list of tuples (word, POS tag)\n",
    "    \"\"\"\n",
    "    # Tokenize the sentence into words\n",
    "    words = word_tokenize(sentence)\n",
    "\n",
    "    # Perform POS tagging\n",
    "    tagged_words = nltk.pos_tag(words)\n",
    "    \n",
    "    return tagged_words\n",
    "\n",
    "# Example usage\n",
    "input_sentence = \"The quick brown fox jumps over the lazy dog.\"\n",
    "tagged_sentence = pos_tagging(input_sentence)\n",
    "\n",
    "print(\"Original Sentence:\", input_sentence)\n",
    "print(\"POS Tagged Sentence:\", tagged_sentence)\n"
   ]
  },
  {
   "cell_type": "markdown",
   "id": "bb64435c",
   "metadata": {},
   "source": [
    "\n",
    "## Explanation of Code\n",
    "\n",
    "1. **`nltk.download('punkt')`**:\n",
    "   - Downloads the `punkt` tokenizer models, which are necessary for tokenizing sentences into words.\n",
    "\n",
    "2. **`nltk.download('averaged_perceptron_tagger')`**:\n",
    "   - Downloads the POS tagger model used to tag words with their corresponding part of speech.\n",
    "\n",
    "3. **`word_tokenize()`**:\n",
    "   - This function tokenizes the input sentence into individual words.\n",
    "\n",
    "4. **`nltk.pos_tag()`**:\n",
    "   - This function takes a list of words and returns a list of tuples where each tuple consists of a word and its POS tag.\n",
    "\n",
    "5. **`pos_tagging()`**:\n",
    "   - This function tokenizes the sentence and applies POS tagging to each word in the sentence.\n",
    "\n",
    "## Observations:\n",
    "- The input sentence `\"The quick brown fox jumps over the lazy dog.\"`\n",
    "- The POS tagging output is a list of tuples where each tuple consists of a word and its respective POS tag.\n",
    "  \n",
    "## Example Output:\n",
    "- **Original Sentence**: `\"The quick brown fox jumps over the lazy dog.\"`\n",
    "- **POS Tagged Sentence**: `[('The', 'DT'), ('quick', 'JJ'), ('brown', 'JJ'), ('fox', 'NN'), ('jumps', 'VBZ'), ('over', 'IN'), ('the', 'DT'), ('lazy', 'JJ'), ('dog', 'NN')]`\n",
    "\n",
    "### Explanation of POS tags:\n",
    "- `'DT'` = Determiner\n",
    "- `'JJ'` = Adjective\n",
    "- `'NN'` = Noun (singular)\n",
    "- `'VBZ'` = Verb (3rd person singular present)\n",
    "- `'IN'` = Preposition\n"
   ]
  }
 ],
 "metadata": {
  "language_info": {
   "name": "python"
  }
 },
 "nbformat": 4,
 "nbformat_minor": 5
}
